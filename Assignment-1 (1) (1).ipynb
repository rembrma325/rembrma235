{
 "cells": [
  {
   "cell_type": "markdown",
   "id": "0dc6b436",
   "metadata": {},
   "source": [
    "Name - Ramu Barai "
   ]
  },
  {
   "cell_type": "markdown",
   "id": "c9872738",
   "metadata": {},
   "source": [
    "USN - 21BTRCD059"
   ]
  },
  {
   "cell_type": "markdown",
   "id": "c4a06c2b",
   "metadata": {},
   "source": [
    "Department - CSE (Data Science)"
   ]
  },
  {
   "cell_type": "code",
   "execution_count": 1,
   "id": "12b83f9a",
   "metadata": {},
   "outputs": [],
   "source": [
    "import pandas as pd"
   ]
  },
  {
   "cell_type": "code",
   "execution_count": 2,
   "id": "560e352b",
   "metadata": {},
   "outputs": [],
   "source": [
    "# Load the dataset\n",
    "house_df = pd.read_excel('my_house.xlsx')"
   ]
  },
  {
   "cell_type": "markdown",
   "id": "e7045abf",
   "metadata": {},
   "source": [
    "# Using dropna()"
   ]
  },
  {
   "cell_type": "code",
   "execution_count": 3,
   "id": "c0b2bb33",
   "metadata": {},
   "outputs": [],
   "source": [
    "house_df = house_df.dropna()"
   ]
  },
  {
   "cell_type": "markdown",
   "id": "c2722b9a",
   "metadata": {},
   "source": [
    "# Fill missing values with mean, median or mode"
   ]
  },
  {
   "cell_type": "code",
   "execution_count": 4,
   "id": "f9f63163",
   "metadata": {},
   "outputs": [],
   "source": [
    "median = house_df['Number of windows'].median()\n",
    "house_df['Number of windows'] = house_df['Number of windows'].fillna(median)"
   ]
  },
  {
   "cell_type": "code",
   "execution_count": 5,
   "id": "6a9a095d",
   "metadata": {},
   "outputs": [
    {
     "data": {
      "text/html": [
       "<div>\n",
       "<style scoped>\n",
       "    .dataframe tbody tr th:only-of-type {\n",
       "        vertical-align: middle;\n",
       "    }\n",
       "\n",
       "    .dataframe tbody tr th {\n",
       "        vertical-align: top;\n",
       "    }\n",
       "\n",
       "    .dataframe thead th {\n",
       "        text-align: right;\n",
       "    }\n",
       "</style>\n",
       "<table border=\"1\" class=\"dataframe\">\n",
       "  <thead>\n",
       "    <tr style=\"text-align: right;\">\n",
       "      <th></th>\n",
       "      <th>Room</th>\n",
       "      <th>Size (in square feet)</th>\n",
       "      <th>Number of windows</th>\n",
       "      <th>Flooring type</th>\n",
       "    </tr>\n",
       "  </thead>\n",
       "  <tbody>\n",
       "    <tr>\n",
       "      <th>0</th>\n",
       "      <td>Kitchen</td>\n",
       "      <td>150</td>\n",
       "      <td>2.0</td>\n",
       "      <td>Tile</td>\n",
       "    </tr>\n",
       "    <tr>\n",
       "      <th>1</th>\n",
       "      <td>Living room</td>\n",
       "      <td>250</td>\n",
       "      <td>3.0</td>\n",
       "      <td>Carpet</td>\n",
       "    </tr>\n",
       "    <tr>\n",
       "      <th>3</th>\n",
       "      <td>Bedroom 2</td>\n",
       "      <td>175</td>\n",
       "      <td>2.0</td>\n",
       "      <td>Carpet</td>\n",
       "    </tr>\n",
       "    <tr>\n",
       "      <th>4</th>\n",
       "      <td>Bathroom</td>\n",
       "      <td>75</td>\n",
       "      <td>1.0</td>\n",
       "      <td>Tile</td>\n",
       "    </tr>\n",
       "  </tbody>\n",
       "</table>\n",
       "</div>"
      ],
      "text/plain": [
       "          Room  Size (in square feet)  Number of windows Flooring type\n",
       "0      Kitchen                    150                2.0          Tile\n",
       "1  Living room                    250                3.0        Carpet\n",
       "3    Bedroom 2                    175                2.0        Carpet\n",
       "4     Bathroom                     75                1.0          Tile"
      ]
     },
     "execution_count": 5,
     "metadata": {},
     "output_type": "execute_result"
    }
   ],
   "source": [
    "house_df"
   ]
  },
  {
   "cell_type": "markdown",
   "id": "dff992ac",
   "metadata": {},
   "source": [
    "# Encoding Techniques"
   ]
  },
  {
   "cell_type": "markdown",
   "id": "e6035439",
   "metadata": {},
   "source": [
    "Replace categorical values with numerical values\n",
    "We can replace the categorical values in the 'Flooring type' column with numerical values using the replace method:"
   ]
  },
  {
   "cell_type": "code",
   "execution_count": 7,
   "id": "9aff0b91",
   "metadata": {},
   "outputs": [],
   "source": [
    "house_df['Flooring type'] = house_df['Flooring type'].replace({'Tile': 0, 'Carpet': 1, 'Hardwood': 2})"
   ]
  },
  {
   "cell_type": "code",
   "execution_count": 8,
   "id": "7b626763",
   "metadata": {},
   "outputs": [
    {
     "data": {
      "text/html": [
       "<div>\n",
       "<style scoped>\n",
       "    .dataframe tbody tr th:only-of-type {\n",
       "        vertical-align: middle;\n",
       "    }\n",
       "\n",
       "    .dataframe tbody tr th {\n",
       "        vertical-align: top;\n",
       "    }\n",
       "\n",
       "    .dataframe thead th {\n",
       "        text-align: right;\n",
       "    }\n",
       "</style>\n",
       "<table border=\"1\" class=\"dataframe\">\n",
       "  <thead>\n",
       "    <tr style=\"text-align: right;\">\n",
       "      <th></th>\n",
       "      <th>Room</th>\n",
       "      <th>Size (in square feet)</th>\n",
       "      <th>Number of windows</th>\n",
       "      <th>Flooring type</th>\n",
       "    </tr>\n",
       "  </thead>\n",
       "  <tbody>\n",
       "    <tr>\n",
       "      <th>0</th>\n",
       "      <td>Kitchen</td>\n",
       "      <td>150</td>\n",
       "      <td>2.0</td>\n",
       "      <td>0</td>\n",
       "    </tr>\n",
       "    <tr>\n",
       "      <th>1</th>\n",
       "      <td>Living room</td>\n",
       "      <td>250</td>\n",
       "      <td>3.0</td>\n",
       "      <td>1</td>\n",
       "    </tr>\n",
       "    <tr>\n",
       "      <th>3</th>\n",
       "      <td>Bedroom 2</td>\n",
       "      <td>175</td>\n",
       "      <td>2.0</td>\n",
       "      <td>1</td>\n",
       "    </tr>\n",
       "    <tr>\n",
       "      <th>4</th>\n",
       "      <td>Bathroom</td>\n",
       "      <td>75</td>\n",
       "      <td>1.0</td>\n",
       "      <td>0</td>\n",
       "    </tr>\n",
       "  </tbody>\n",
       "</table>\n",
       "</div>"
      ],
      "text/plain": [
       "          Room  Size (in square feet)  Number of windows  Flooring type\n",
       "0      Kitchen                    150                2.0              0\n",
       "1  Living room                    250                3.0              1\n",
       "3    Bedroom 2                    175                2.0              1\n",
       "4     Bathroom                     75                1.0              0"
      ]
     },
     "execution_count": 8,
     "metadata": {},
     "output_type": "execute_result"
    }
   ],
   "source": [
    "house_df"
   ]
  },
  {
   "cell_type": "markdown",
   "id": "d9fc2217",
   "metadata": {},
   "source": [
    "## One-hot encoding"
   ]
  },
  {
   "cell_type": "markdown",
   "id": "e9f2127c",
   "metadata": {},
   "source": [
    "We can use one-hot encoding to convert the 'Flooring type' column into binary columns for each category using the get_dummies method:"
   ]
  },
  {
   "cell_type": "code",
   "execution_count": 9,
   "id": "e19d9179",
   "metadata": {},
   "outputs": [],
   "source": [
    "house_df = pd.get_dummies(house_df, columns=['Flooring type'])"
   ]
  },
  {
   "cell_type": "code",
   "execution_count": 10,
   "id": "5453b2ff",
   "metadata": {},
   "outputs": [
    {
     "data": {
      "text/html": [
       "<div>\n",
       "<style scoped>\n",
       "    .dataframe tbody tr th:only-of-type {\n",
       "        vertical-align: middle;\n",
       "    }\n",
       "\n",
       "    .dataframe tbody tr th {\n",
       "        vertical-align: top;\n",
       "    }\n",
       "\n",
       "    .dataframe thead th {\n",
       "        text-align: right;\n",
       "    }\n",
       "</style>\n",
       "<table border=\"1\" class=\"dataframe\">\n",
       "  <thead>\n",
       "    <tr style=\"text-align: right;\">\n",
       "      <th></th>\n",
       "      <th>Room</th>\n",
       "      <th>Size (in square feet)</th>\n",
       "      <th>Number of windows</th>\n",
       "      <th>Flooring type_0</th>\n",
       "      <th>Flooring type_1</th>\n",
       "    </tr>\n",
       "  </thead>\n",
       "  <tbody>\n",
       "    <tr>\n",
       "      <th>0</th>\n",
       "      <td>Kitchen</td>\n",
       "      <td>150</td>\n",
       "      <td>2.0</td>\n",
       "      <td>1</td>\n",
       "      <td>0</td>\n",
       "    </tr>\n",
       "    <tr>\n",
       "      <th>1</th>\n",
       "      <td>Living room</td>\n",
       "      <td>250</td>\n",
       "      <td>3.0</td>\n",
       "      <td>0</td>\n",
       "      <td>1</td>\n",
       "    </tr>\n",
       "    <tr>\n",
       "      <th>3</th>\n",
       "      <td>Bedroom 2</td>\n",
       "      <td>175</td>\n",
       "      <td>2.0</td>\n",
       "      <td>0</td>\n",
       "      <td>1</td>\n",
       "    </tr>\n",
       "    <tr>\n",
       "      <th>4</th>\n",
       "      <td>Bathroom</td>\n",
       "      <td>75</td>\n",
       "      <td>1.0</td>\n",
       "      <td>1</td>\n",
       "      <td>0</td>\n",
       "    </tr>\n",
       "  </tbody>\n",
       "</table>\n",
       "</div>"
      ],
      "text/plain": [
       "          Room  Size (in square feet)  Number of windows  Flooring type_0  \\\n",
       "0      Kitchen                    150                2.0                1   \n",
       "1  Living room                    250                3.0                0   \n",
       "3    Bedroom 2                    175                2.0                0   \n",
       "4     Bathroom                     75                1.0                1   \n",
       "\n",
       "   Flooring type_1  \n",
       "0                0  \n",
       "1                1  \n",
       "3                1  \n",
       "4                0  "
      ]
     },
     "execution_count": 10,
     "metadata": {},
     "output_type": "execute_result"
    }
   ],
   "source": [
    "house_df"
   ]
  },
  {
   "cell_type": "markdown",
   "id": "e561fd4f",
   "metadata": {},
   "source": [
    "## Sklearn-ordinalencoder"
   ]
  },
  {
   "cell_type": "markdown",
   "id": "9673e892",
   "metadata": {},
   "source": [
    "We can use the OrdinalEncoder from scikit-learn to encode the 'Flooring type' column with numerical values:"
   ]
  },
  {
   "cell_type": "code",
   "execution_count": 13,
   "id": "1ddeffcb",
   "metadata": {},
   "outputs": [],
   "source": [
    "from sklearn.preprocessing import OrdinalEncoder"
   ]
  },
  {
   "cell_type": "code",
   "execution_count": 16,
   "id": "f009fbd9",
   "metadata": {},
   "outputs": [],
   "source": [
    "encoder = OrdinalEncoder()\n",
    "house_df['Flooring type'] = encoder.fit_transform(house_df[['Flooring type_0','Flooring type_1']])"
   ]
  },
  {
   "cell_type": "code",
   "execution_count": 17,
   "id": "c5418f26",
   "metadata": {},
   "outputs": [
    {
     "data": {
      "text/html": [
       "<div>\n",
       "<style scoped>\n",
       "    .dataframe tbody tr th:only-of-type {\n",
       "        vertical-align: middle;\n",
       "    }\n",
       "\n",
       "    .dataframe tbody tr th {\n",
       "        vertical-align: top;\n",
       "    }\n",
       "\n",
       "    .dataframe thead th {\n",
       "        text-align: right;\n",
       "    }\n",
       "</style>\n",
       "<table border=\"1\" class=\"dataframe\">\n",
       "  <thead>\n",
       "    <tr style=\"text-align: right;\">\n",
       "      <th></th>\n",
       "      <th>Room</th>\n",
       "      <th>Size (in square feet)</th>\n",
       "      <th>Number of windows</th>\n",
       "      <th>Flooring type_0</th>\n",
       "      <th>Flooring type_1</th>\n",
       "      <th>Flooring type</th>\n",
       "    </tr>\n",
       "  </thead>\n",
       "  <tbody>\n",
       "    <tr>\n",
       "      <th>0</th>\n",
       "      <td>Kitchen</td>\n",
       "      <td>150</td>\n",
       "      <td>2.0</td>\n",
       "      <td>1</td>\n",
       "      <td>0</td>\n",
       "      <td>1.0</td>\n",
       "    </tr>\n",
       "    <tr>\n",
       "      <th>1</th>\n",
       "      <td>Living room</td>\n",
       "      <td>250</td>\n",
       "      <td>3.0</td>\n",
       "      <td>0</td>\n",
       "      <td>1</td>\n",
       "      <td>0.0</td>\n",
       "    </tr>\n",
       "    <tr>\n",
       "      <th>3</th>\n",
       "      <td>Bedroom 2</td>\n",
       "      <td>175</td>\n",
       "      <td>2.0</td>\n",
       "      <td>0</td>\n",
       "      <td>1</td>\n",
       "      <td>0.0</td>\n",
       "    </tr>\n",
       "    <tr>\n",
       "      <th>4</th>\n",
       "      <td>Bathroom</td>\n",
       "      <td>75</td>\n",
       "      <td>1.0</td>\n",
       "      <td>1</td>\n",
       "      <td>0</td>\n",
       "      <td>1.0</td>\n",
       "    </tr>\n",
       "  </tbody>\n",
       "</table>\n",
       "</div>"
      ],
      "text/plain": [
       "          Room  Size (in square feet)  Number of windows  Flooring type_0  \\\n",
       "0      Kitchen                    150                2.0                1   \n",
       "1  Living room                    250                3.0                0   \n",
       "3    Bedroom 2                    175                2.0                0   \n",
       "4     Bathroom                     75                1.0                1   \n",
       "\n",
       "   Flooring type_1  Flooring type  \n",
       "0                0            1.0  \n",
       "1                1            0.0  \n",
       "3                1            0.0  \n",
       "4                0            1.0  "
      ]
     },
     "execution_count": 17,
     "metadata": {},
     "output_type": "execute_result"
    }
   ],
   "source": [
    "house_df"
   ]
  },
  {
   "cell_type": "markdown",
   "id": "11bf333f",
   "metadata": {},
   "source": [
    "# Write short description of encoding & its methods."
   ]
  },
  {
   "cell_type": "markdown",
   "id": "e2392790",
   "metadata": {},
   "source": [
    "In machine learning, encoding is the process of transforming categorical data into numerical data that can be used by algorithms to build predictive models. This is necessary because many machine learning algorithms can only handle numerical data, and cannot directly work with categorical data.\n",
    "\n",
    "There are several methods of encoding categorical data, including:\n",
    "\n",
    "1) Label Encoding: This method assigns each unique value in a categorical column with a unique integer. For example, if a column has values 'red', 'green', and 'blue', these might be encoded as 0, 1, and 2. This method is suitable for ordinal categorical data where there is a natural ordering between the categories.\n",
    "\n",
    "2) One-Hot Encoding: This method creates a new binary column for each unique value in a categorical column. If a row has a certain value for a categorical column, the corresponding binary column will have a value of 1, and all other binary columns will have a value of 0. This method is suitable for nominal categorical data where there is no natural ordering between the categories.\n",
    "\n",
    "3) Binary Encoding: This method converts each unique value in a categorical column to a binary code. For example, if a column has values 'red', 'green', and 'blue', these might be encoded as 00, 01, and 10. This method is suitable for categorical data with many unique values.\n",
    "\n",
    "4) Target Encoding: This method replaces each unique value in a categorical column with the mean of the target variable for that value. This method is suitable for categorical data where the target variable is continuous.\n",
    "\n",
    "5) Frequency Encoding: This method replaces each unique value in a categorical column with its frequency in the dataset. This method is suitable for categorical data where the frequency of the value is informative.\n",
    "\n",
    "6) Ordinal Encoding: This method assigns each unique value in a categorical column with a numerical value based on its rank or order. This method is suitable for categorical data where there is a natural ordering between the categories, but the categories cannot be assumed to have an equal distance between them.\n",
    "\n",
    "The choice of encoding method depends on the nature of the categorical data and the specific requirements of the machine learning algorithm being used."
   ]
  }
 ],
 "metadata": {
  "kernelspec": {
   "display_name": "Python 3 (ipykernel)",
   "language": "python",
   "name": "python3"
  },
  "language_info": {
   "codemirror_mode": {
    "name": "ipython",
    "version": 3
   },
   "file_extension": ".py",
   "mimetype": "text/x-python",
   "name": "python",
   "nbconvert_exporter": "python",
   "pygments_lexer": "ipython3",
   "version": "3.9.13"
  }
 },
 "nbformat": 4,
 "nbformat_minor": 5
}
